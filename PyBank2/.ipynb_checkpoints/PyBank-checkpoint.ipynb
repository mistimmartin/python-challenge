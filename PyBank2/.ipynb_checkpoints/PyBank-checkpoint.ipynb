{
 "cells": [
  {
   "cell_type": "code",
   "execution_count": 3,
   "metadata": {},
   "outputs": [],
   "source": [
    "import os\n",
    "import csv"
   ]
  },
  {
   "cell_type": "code",
   "execution_count": 4,
   "metadata": {},
   "outputs": [],
   "source": [
    "path = os.path.join(\"Resources\",\"budget_data.csv\")"
   ]
  },
  {
   "cell_type": "code",
   "execution_count": 61,
   "metadata": {},
   "outputs": [
    {
     "name": "stdout",
     "output_type": "stream",
     "text": [
      "86\n",
      "38382578\n",
      "-2315.1176470588234\n",
      "['Feb-2012', 1926159]\n",
      "['Sep-2013', -2196167]\n"
     ]
    }
   ],
   "source": [
    "total_months = 0\n",
    "total_net=0\n",
    "net_change_list = []\n",
    "month_of_change = []\n",
    "greatest_increase = [\"\", 0]\n",
    "greatest_decrease = [\"\", 9999999999999999999]\n",
    "with open(path, 'r') as csvfile:\n",
    "    csvreader = csv.reader(csvfile, delimiter=',')\n",
    "    header=next(csvreader)\n",
    "    first_row=next(csvreader)\n",
    "    total_months = total_months + 1 \n",
    "    total_net=total_net + int(first_row[1])\n",
    "    prev_net=int(first_row[1])\n",
    "    for row in csvreader:\n",
    "        total_months = total_months + 1 \n",
    "        total_net=total_net + int(row[1])\n",
    "        net_change = int(row[1]) - prev_net \n",
    "        prev_net=int(row[1])\n",
    "        net_change_list = net_change_list + [net_change]\n",
    "        month_of_change = month_of_change + [row[0]]\n",
    "        if net_change > greatest_increase[1]:\n",
    "            greatest_increase[0] = row[0]\n",
    "            greatest_increase[1] = net_change\n",
    "        if net_change < greatest_decrease[1]:\n",
    "            greatest_decrease[0] = row[0]\n",
    "            greatest_decrease[1] = net_change\n",
    "    average_change = sum(net_change_list)/len(net_change_list)\n",
    "    print(total_months)\n",
    "    print(total_net)\n",
    "    print(average_change)\n",
    "    print(greatest_increase)\n",
    "    print(greatest_decrease)"
   ]
  },
  {
   "cell_type": "code",
   "execution_count": 79,
   "metadata": {},
   "outputs": [
    {
     "name": "stdout",
     "output_type": "stream",
     "text": [
      "Total Months: 86\n",
      "Total: $38382578\n",
      "Average Change: $-2315.12\n",
      "Greatest Increase in Profits: Feb-2012 ($1926159)\n",
      "Greatest Decrease in Profits: Sep-2013 ($-2196167)\n"
     ]
    }
   ],
   "source": [
    "print(\"Total Months:\", total_months)\n",
    "print(\"Total:\", str(\"$\") + str(total_net))\n",
    "print(\"Average Change:\", str(\"$\") + str(round(average_change,2)))\n",
    "print(\"Greatest Increase in Profits:\", str(greatest_increase[0]) + \" ($\" + str(greatest_increase[1]) + \")\")\n",
    "print(\"Greatest Decrease in Profits:\", str(greatest_decrease[0]) + \" ($\" + str(greatest_decrease[1]) + \")\")"
   ]
  },
  {
   "cell_type": "code",
   "execution_count": 99,
   "metadata": {},
   "outputs": [],
   "source": [
    "output = os.path.join(\"financial_analysis.csv\")\n",
    "with open(output, 'w', newline=\"\") as csvfile:\n",
    "    writer = csv.writer(csvfile,delimiter=',')\n",
    "    writer.writerow([\"Total Months:\", total_months])\n",
    "    writer.writerow([\"Total:\", str(\"$\") + str(total_net)])\n",
    "    writer.writerow([\"Average Change:\", str(\"$\") + str(round(average_change,2))])\n",
    "    writer.writerow([\"Greatest Increase in Profits:\", str(greatest_increase[0]) + \" ($\" + str(greatest_increase[1]) + \")\"])\n",
    "    writer.writerow([\"Greatest Decrease in Profits:\", str(greatest_decrease[0]) + \" ($\" + str(greatest_decrease[1]) + \")\"])"
   ]
  },
  {
   "cell_type": "code",
   "execution_count": null,
   "metadata": {},
   "outputs": [],
   "source": []
  }
 ],
 "metadata": {
  "kernelspec": {
   "display_name": "Python 3",
   "language": "python",
   "name": "python3"
  },
  "language_info": {
   "codemirror_mode": {
    "name": "ipython",
    "version": 3
   },
   "file_extension": ".py",
   "mimetype": "text/x-python",
   "name": "python",
   "nbconvert_exporter": "python",
   "pygments_lexer": "ipython3",
   "version": "3.7.4"
  }
 },
 "nbformat": 4,
 "nbformat_minor": 4
}
